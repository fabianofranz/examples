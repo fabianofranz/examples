{
 "cells": [
  {
   "cell_type": "markdown",
   "id": "a8ec10d3-b864-4ba5-999b-76e32a85d395",
   "metadata": {},
   "source": [
    "This notebook uses [Docling](https://docling-project.github.io/docling/) to convert any type of document into a Docling Document. A Docling Document is the representation of the document after conversion that can be exported as JSON. The JSON output of this notebook can then be used in others such as one that uses Docling's chunking methods."
   ]
  },
  {
   "cell_type": "code",
   "execution_count": 1,
   "id": "4c1121b5-a60c-4a29-b9ba-d35d19da441e",
   "metadata": {},
   "outputs": [
    {
     "name": "stdout",
     "output_type": "stream",
     "text": [
      "Requirement already satisfied: accelerate in ./venv/lib64/python3.12/site-packages (1.6.0)\n",
      "Requirement already satisfied: numpy<3.0.0,>=1.17 in ./venv/lib64/python3.12/site-packages (from accelerate) (2.2.5)\n",
      "Requirement already satisfied: packaging>=20.0 in ./venv/lib64/python3.12/site-packages (from accelerate) (25.0)\n",
      "Requirement already satisfied: psutil in ./venv/lib64/python3.12/site-packages (from accelerate) (7.0.0)\n",
      "Requirement already satisfied: pyyaml in ./venv/lib64/python3.12/site-packages (from accelerate) (6.0.2)\n",
      "Requirement already satisfied: torch>=2.0.0 in ./venv/lib64/python3.12/site-packages (from accelerate) (2.7.0)\n",
      "Requirement already satisfied: huggingface-hub>=0.21.0 in ./venv/lib64/python3.12/site-packages (from accelerate) (0.30.2)\n",
      "Requirement already satisfied: safetensors>=0.4.3 in ./venv/lib64/python3.12/site-packages (from accelerate) (0.5.3)\n",
      "Requirement already satisfied: filelock in ./venv/lib64/python3.12/site-packages (from huggingface-hub>=0.21.0->accelerate) (3.18.0)\n",
      "Requirement already satisfied: fsspec>=2023.5.0 in ./venv/lib64/python3.12/site-packages (from huggingface-hub>=0.21.0->accelerate) (2025.3.2)\n",
      "Requirement already satisfied: requests in ./venv/lib64/python3.12/site-packages (from huggingface-hub>=0.21.0->accelerate) (2.32.3)\n",
      "Requirement already satisfied: tqdm>=4.42.1 in ./venv/lib64/python3.12/site-packages (from huggingface-hub>=0.21.0->accelerate) (4.67.1)\n",
      "Requirement already satisfied: typing-extensions>=3.7.4.3 in ./venv/lib64/python3.12/site-packages (from huggingface-hub>=0.21.0->accelerate) (4.13.2)\n",
      "Requirement already satisfied: setuptools in ./venv/lib64/python3.12/site-packages (from torch>=2.0.0->accelerate) (79.0.0)\n",
      "Requirement already satisfied: sympy>=1.13.3 in ./venv/lib64/python3.12/site-packages (from torch>=2.0.0->accelerate) (1.13.3)\n",
      "Requirement already satisfied: networkx in ./venv/lib64/python3.12/site-packages (from torch>=2.0.0->accelerate) (3.4.2)\n",
      "Requirement already satisfied: jinja2 in ./venv/lib64/python3.12/site-packages (from torch>=2.0.0->accelerate) (3.1.6)\n",
      "Requirement already satisfied: nvidia-cuda-nvrtc-cu12==12.6.77 in ./venv/lib64/python3.12/site-packages (from torch>=2.0.0->accelerate) (12.6.77)\n",
      "Requirement already satisfied: nvidia-cuda-runtime-cu12==12.6.77 in ./venv/lib64/python3.12/site-packages (from torch>=2.0.0->accelerate) (12.6.77)\n",
      "Requirement already satisfied: nvidia-cuda-cupti-cu12==12.6.80 in ./venv/lib64/python3.12/site-packages (from torch>=2.0.0->accelerate) (12.6.80)\n",
      "Requirement already satisfied: nvidia-cudnn-cu12==9.5.1.17 in ./venv/lib64/python3.12/site-packages (from torch>=2.0.0->accelerate) (9.5.1.17)\n",
      "Requirement already satisfied: nvidia-cublas-cu12==12.6.4.1 in ./venv/lib64/python3.12/site-packages (from torch>=2.0.0->accelerate) (12.6.4.1)\n",
      "Requirement already satisfied: nvidia-cufft-cu12==11.3.0.4 in ./venv/lib64/python3.12/site-packages (from torch>=2.0.0->accelerate) (11.3.0.4)\n",
      "Requirement already satisfied: nvidia-curand-cu12==10.3.7.77 in ./venv/lib64/python3.12/site-packages (from torch>=2.0.0->accelerate) (10.3.7.77)\n",
      "Requirement already satisfied: nvidia-cusolver-cu12==11.7.1.2 in ./venv/lib64/python3.12/site-packages (from torch>=2.0.0->accelerate) (11.7.1.2)\n",
      "Requirement already satisfied: nvidia-cusparse-cu12==12.5.4.2 in ./venv/lib64/python3.12/site-packages (from torch>=2.0.0->accelerate) (12.5.4.2)\n",
      "Requirement already satisfied: nvidia-cusparselt-cu12==0.6.3 in ./venv/lib64/python3.12/site-packages (from torch>=2.0.0->accelerate) (0.6.3)\n",
      "Requirement already satisfied: nvidia-nccl-cu12==2.26.2 in ./venv/lib64/python3.12/site-packages (from torch>=2.0.0->accelerate) (2.26.2)\n",
      "Requirement already satisfied: nvidia-nvtx-cu12==12.6.77 in ./venv/lib64/python3.12/site-packages (from torch>=2.0.0->accelerate) (12.6.77)\n",
      "Requirement already satisfied: nvidia-nvjitlink-cu12==12.6.85 in ./venv/lib64/python3.12/site-packages (from torch>=2.0.0->accelerate) (12.6.85)\n",
      "Requirement already satisfied: nvidia-cufile-cu12==1.11.1.6 in ./venv/lib64/python3.12/site-packages (from torch>=2.0.0->accelerate) (1.11.1.6)\n",
      "Requirement already satisfied: triton==3.3.0 in ./venv/lib64/python3.12/site-packages (from torch>=2.0.0->accelerate) (3.3.0)\n",
      "Requirement already satisfied: mpmath<1.4,>=1.1.0 in ./venv/lib64/python3.12/site-packages (from sympy>=1.13.3->torch>=2.0.0->accelerate) (1.3.0)\n",
      "Requirement already satisfied: MarkupSafe>=2.0 in ./venv/lib64/python3.12/site-packages (from jinja2->torch>=2.0.0->accelerate) (3.0.2)\n",
      "Requirement already satisfied: charset-normalizer<4,>=2 in ./venv/lib64/python3.12/site-packages (from requests->huggingface-hub>=0.21.0->accelerate) (3.4.1)\n",
      "Requirement already satisfied: idna<4,>=2.5 in ./venv/lib64/python3.12/site-packages (from requests->huggingface-hub>=0.21.0->accelerate) (3.10)\n",
      "Requirement already satisfied: urllib3<3,>=1.21.1 in ./venv/lib64/python3.12/site-packages (from requests->huggingface-hub>=0.21.0->accelerate) (2.4.0)\n",
      "Requirement already satisfied: certifi>=2017.4.17 in ./venv/lib64/python3.12/site-packages (from requests->huggingface-hub>=0.21.0->accelerate) (2025.1.31)\n",
      "\n",
      "\u001b[1m[\u001b[0m\u001b[34;49mnotice\u001b[0m\u001b[1;39;49m]\u001b[0m\u001b[39;49m A new release of pip is available: \u001b[0m\u001b[31;49m24.2\u001b[0m\u001b[39;49m -> \u001b[0m\u001b[32;49m25.0.1\u001b[0m\n",
      "\u001b[1m[\u001b[0m\u001b[34;49mnotice\u001b[0m\u001b[1;39;49m]\u001b[0m\u001b[39;49m To update, run: \u001b[0m\u001b[32;49mpip install --upgrade pip\u001b[0m\n"
     ]
    }
   ],
   "source": [
    "!pip install accelerate"
   ]
  },
  {
   "cell_type": "code",
   "execution_count": 2,
   "id": "d9936ba1-184b-46a6-9650-123bab77d483",
   "metadata": {
    "papermill": {
     "duration": 3.345431,
     "end_time": "2025-04-10T14:51:05.910094",
     "exception": false,
     "start_time": "2025-04-10T14:51:02.564663",
     "status": "completed"
    },
    "tags": []
   },
   "outputs": [],
   "source": [
    "from docling.document_converter import DocumentConverter, ConversionError, PdfFormatOption\n",
    "from docling.datamodel.base_models import InputFormat\n",
    "from docling.datamodel.pipeline_options import (\n",
    "    HuggingFaceVlmOptions,\n",
    "    InferenceFramework,\n",
    "    ResponseFormat,\n",
    "    VlmPipelineOptions,\n",
    ")\n",
    "from docling.pipeline.vlm_pipeline import VlmPipeline\n",
    "import json\n",
    "from pathlib import Path"
   ]
  },
  {
   "cell_type": "markdown",
   "id": "bdd383d8-6129-432d-8431-baca497811ad",
   "metadata": {},
   "source": [
    "First we set the paths for the documents we want to convert and where the JSON output should live."
   ]
  },
  {
   "cell_type": "code",
   "execution_count": 3,
   "id": "6b674cd0-b6d1-4b11-9da1-9ba574bd372b",
   "metadata": {
    "papermill": {
     "duration": 0.003659,
     "end_time": "2025-04-10T14:51:05.914616",
     "exception": false,
     "start_time": "2025-04-10T14:51:05.910957",
     "status": "completed"
    },
    "tags": []
   },
   "outputs": [
    {
     "name": "stdout",
     "output_type": "stream",
     "text": [
      "Files to convert: [PosixPath('/home/ffranz/Dev/e2e-poc-source-documents/newtest/safebalance-clarity-statement.pdf')]\n"
     ]
    }
   ],
   "source": [
    "doc_path = Path(\"/home/ffranz/Dev/e2e-poc-source-documents/newtest\")\n",
    "output_dir = Path(\"/home/ffranz/Dev/e2e-poc-source-documents/newtest/output\")\n",
    "\n",
    "files = []\n",
    "\n",
    "if doc_path.is_file():\n",
    "    files = [doc_path]\n",
    "else:\n",
    "    files = list(doc_path.rglob(\"*.pdf\"))\n",
    "print(f\"Files to convert: {files}\")"
   ]
  },
  {
   "cell_type": "markdown",
   "id": "544ad3a3-a6fb-44b1-97f5-ea7e157bf816",
   "metadata": {
    "tags": []
   },
   "source": [
    "Next we set the configuration options for our conversion pipeline. The PDF Conversion options set here are the defaults. More information about pipeline configuration can be found [Docling](https://docling-project.github.io/docling/)."
   ]
  },
  {
   "cell_type": "code",
   "execution_count": 4,
   "id": "65665e28-de95-4ab3-82b1-d2fd5297be2b",
   "metadata": {
    "tags": []
   },
   "outputs": [],
   "source": [
    "pipeline_options = VlmPipelineOptions()\n",
    "\n",
    "vlm_prompt = f\"\"\"Extract all text from the image you received, without modification, summarization, or omission.\n",
    "    Format the output as markdown, using up to three levels of headers (#, ##, and ###) only where they appear \n",
    "    in the image, preserving bulleted and numbered lists, and maintaining basic text formatting (bold, italic, \n",
    "    underline) exactly where they appear.\n",
    "    \"\"\"\n",
    "\n",
    "pipeline_options.vlm_options = HuggingFaceVlmOptions(\n",
    "        repo_id=\"ibm-granite/granite-vision-3.2-2b\",\n",
    "        prompt=vlm_prompt,\n",
    "        response_format=ResponseFormat.MARKDOWN,\n",
    "        inference_framework=InferenceFramework.TRANSFORMERS,\n",
    "    )\n",
    "\n",
    "doc_converter = DocumentConverter(\n",
    "     format_options={\n",
    "         InputFormat.PDF: PdfFormatOption(\n",
    "             pipeline_options=pipeline_options,\n",
    "              pipeline_cls=VlmPipeline,\n",
    "         )\n",
    "     }\n",
    ")"
   ]
  },
  {
   "cell_type": "markdown",
   "id": "8597e59c-d6fd-4290-8318-17f061576042",
   "metadata": {},
   "source": [
    "Finally we convert every document into Docling JSON as long as it is a valid file type to be converted"
   ]
  },
  {
   "cell_type": "code",
   "execution_count": 5,
   "id": "052ecff2-c3f0-492d-9656-272cac255fbc",
   "metadata": {
    "papermill": {
     "duration": 7.513719,
     "end_time": "2025-04-10T14:51:13.429057",
     "exception": false,
     "start_time": "2025-04-10T14:51:05.915338",
     "status": "completed"
    },
    "tags": []
   },
   "outputs": [
    {
     "name": "stderr",
     "output_type": "stream",
     "text": [
      "Using a slow image processor as `use_fast` is unset and a slow processor was saved with this model. `use_fast=True` will be the default behavior in v4.52, even if the model was saved with a slow processor. This will result in minor differences in outputs. You'll still be able to use a slow processor with `use_fast=False`.\n"
     ]
    },
    {
     "data": {
      "application/vnd.jupyter.widget-view+json": {
       "model_id": "e4d2c53e0bd14a99a3a3502835467623",
       "version_major": 2,
       "version_minor": 0
      },
      "text/plain": [
       "Loading checkpoint shards:   0%|          | 0/2 [00:00<?, ?it/s]"
      ]
     },
     "metadata": {},
     "output_type": "display_data"
    },
    {
     "name": "stdout",
     "output_type": "stream",
     "text": [
      "Path of JSON output is: /home/ffranz/Dev/e2e-poc-source-documents/newtest/output/safebalance-clarity-statement.json\n",
      "Path of MARKDOWN output is: /home/ffranz/Dev/e2e-poc-source-documents/newtest/output/safebalance-clarity-statement.md\n"
     ]
    }
   ],
   "source": [
    "for file in files:\n",
    "    try:\n",
    "        doc = doc_converter.convert(source=file).document\n",
    "        doc_dict = doc.export_to_dict()\n",
    "        json_output_path = output_dir / f\"{file.stem}.json\"\n",
    "        md_output_path = output_dir / f\"{file.stem}.md\"\n",
    "        with open(json_output_path, \"w\") as f:\n",
    "            json.dump(doc_dict, f)\n",
    "            print(f\"Path of JSON output is: {Path(json_output_path).resolve()}\")\n",
    "        with open(md_output_path, \"w\") as f:\n",
    "            f.write(doc.export_to_markdown())\n",
    "            print(f\"Path of MARKDOWN output is: {Path(md_output_path).resolve()}\")\n",
    "    except ConversionError as e:\n",
    "        print(f\"Skipping file {file}\")"
   ]
  },
  {
   "cell_type": "code",
   "execution_count": null,
   "id": "92ac4630-a4d6-4941-8df1-b5648a524d06",
   "metadata": {
    "papermill": {
     "duration": 0.000715,
     "end_time": "2025-04-10T14:51:13.443312",
     "exception": false,
     "start_time": "2025-04-10T14:51:13.442597",
     "status": "completed"
    },
    "tags": []
   },
   "outputs": [],
   "source": []
  },
  {
   "cell_type": "code",
   "execution_count": null,
   "id": "cbee7f56-af76-41aa-9bf0-9e7656837602",
   "metadata": {},
   "outputs": [],
   "source": []
  }
 ],
 "metadata": {
  "kernelspec": {
   "display_name": "Python 3 (ipykernel)",
   "language": "python",
   "name": "python3"
  },
  "language_info": {
   "codemirror_mode": {
    "name": "ipython",
    "version": 3
   },
   "file_extension": ".py",
   "mimetype": "text/x-python",
   "name": "python",
   "nbconvert_exporter": "python",
   "pygments_lexer": "ipython3",
   "version": "3.12.10"
  },
  "papermill": {
   "default_parameters": {},
   "duration": 15.453314,
   "end_time": "2025-04-10T14:51:16.059733",
   "environment_variables": {},
   "exception": null,
   "input_path": "/Users/amaredia/dev/sdg_hub/conversion.ipynb",
   "output_path": "/Users/amaredia/dev/sdg_hub/conversion.ipynb",
   "parameters": {},
   "start_time": "2025-04-10T14:51:00.606419",
   "version": "2.6.0"
  }
 },
 "nbformat": 4,
 "nbformat_minor": 5
}
